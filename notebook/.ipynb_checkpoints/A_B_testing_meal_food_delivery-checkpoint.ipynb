{
 "cells": [
  {
   "cell_type": "code",
   "execution_count": null,
   "metadata": {},
   "outputs": [],
   "source": [
    "import pandas as pd\n",
    "import numpy as np\n",
    "import matplotlib.pyplot as plt\n",
    "import seaborn as sns\n",
    "from statistics import variance"
   ]
  },
  {
   "cell_type": "code",
   "execution_count": null,
   "metadata": {},
   "outputs": [],
   "source": [
    "#merge three table\n",
    "data_order_via_price = pd.read_csv('order_via_price.csv')\n",
    "data_meal_info = pd.read_csv('meal_info.csv')\n",
    "data_fulfilment_center_info = pd.read_csv('fulfilment_center_info.csv')\n",
    "data_info = pd.DataFrame(columns= ['name_data', 'size_data', 'columns_data'])\n",
    "data_info.loc[0] = ['order_via_price',data_order_via_price.shape,[data_order_via_price.columns]]\n",
    "data_info.loc[1] = ['meal_info',data_meal_info.shape,[data_meal_info.columns]]\n",
    "data_info.loc[2] = ['fulfilment_center',data_fulfilment_center_info.shape,[data_fulfilment_center_info.columns]]\n",
    "pd.set_option('display.max_colwidth', None)\n",
    "print(data_order_via_price.shape)\n",
    "data_info.head()"
   ]
  },
  {
   "cell_type": "code",
   "execution_count": null,
   "metadata": {},
   "outputs": [],
   "source": [
    "data = data_order_via_price\n",
    "data = data.merge(data_meal_info, left_on = 'meal_id', right_on = 'meal_id')\n",
    "data = data.merge(data_fulfilment_center_info , left_on = 'center_id', right_on = 'center_id')\n",
    "print(data.shape)\n",
    "data.columns"
   ]
  },
  {
   "cell_type": "code",
   "execution_count": null,
   "metadata": {},
   "outputs": [],
   "source": [
    "data.head()"
   ]
  },
  {
   "cell_type": "markdown",
   "metadata": {},
   "source": [
    "# ------ EDA ------"
   ]
  },
  {
   "cell_type": "code",
   "execution_count": null,
   "metadata": {},
   "outputs": [],
   "source": [
    "data.info()"
   ]
  },
  {
   "cell_type": "code",
   "execution_count": null,
   "metadata": {},
   "outputs": [],
   "source": [
    "#clean data\n",
    "missing_data = data.isnull().sum(axis=0).reset_index()\n",
    "missing_data.columns = ['variable', 'missing values']\n",
    "missing_data['filling factor (%)']=(data.shape[0]-missing_data['missing values'])/data.shape[0]*100\n",
    "missing_data.sort_values('filling factor (%)').reset_index(drop = True)"
   ]
  },
  {
   "cell_type": "code",
   "execution_count": null,
   "metadata": {},
   "outputs": [],
   "source": [
    "data[['checkout_price','num_orders']].describe()"
   ]
  },
  {
   "cell_type": "code",
   "execution_count": null,
   "metadata": {},
   "outputs": [],
   "source": [
    "def pie_plot(data, feature1, feature2, p1, explo):\n",
    "    #dictionary for feature11 and its total feature2\n",
    "    d_feature1 = {}\n",
    "    \n",
    "    #total feature2\n",
    "    total = data[feature2].sum()\n",
    "\n",
    "    #find ratio of feature2 per feature1\n",
    "    for i in range(data[feature1].nunique()):\n",
    "\n",
    "        #cuisine\n",
    "        c = data[feature1].unique()[i]\n",
    "\n",
    "        #num of feature2 for feature1\n",
    "        c_feature2 = data[data[feature1]==c][feature2].sum()\n",
    "        d_feature1[c] = c_feature2/total\n",
    "\n",
    "     #pie plot \n",
    "    p1.pie([x*100 for x in d_feature1.values()],labels=[x for x in d_feature1.keys()],autopct='%0.1f',explode = explo) \n",
    "\n",
    "     #label the plot \n",
    "    p1.set_title('{} via {}'.format(feature2, feature1)) \n",
    "    \n",
    "################################################################################################\n",
    "#plotting histogram \n",
    "def hist_plot(data, feature1, feature2, theta, space):\n",
    "    plt.rcParams.update({'font.size': 15})\n",
    "    fig, axs = plt.subplots(1,2, figsize = (16,5+2*space))\n",
    "    plt.subplots_adjust(bottom=space)\n",
    "    axs[0].hist(data[feature1],rwidth=0.9,alpha=0.3,color='blue',bins=25,edgecolor='red')\n",
    "    axs[1].hist(data[feature2],rwidth=0.9,alpha=0.3,color='blue',bins=25,edgecolor='red')\n",
    "\n",
    "    #x and y-axis labels \n",
    "    axs[0].set(xlabel=feature1) \n",
    "    axs[1].set(xlabel=feature2) \n",
    "    axs[0].set(ylabel='Frequency') \n",
    "    plt.xticks(rotation=theta)\n",
    "    #plot title \n",
    "    #axs[0].set(title='Inspecting {} effect'.format(feature1)) \n",
    "    #axs[1].set(title='Inspecting {} effect'.format(feature2))\n",
    "    plt.savefig('images/hist_plot_{}_and_{}.png'.format(feature1, feature2))\n",
    "    plt.show()\n",
    "\n",
    "###################################################################################################\n",
    "def scatter_plot(data,feature1, feature2, feature_as_color, list_feature_as_color,plt):\n",
    "    plt.figure(figsize=(10,5))\n",
    "    scatter = plt.scatter(data[feature1],\n",
    "            data[feature2], s=10,\n",
    "            c=data[feature_as_color].astype('category').cat.codes, alpha = .4)\n",
    "    plt.xlabel(feature1, size=15)\n",
    "    plt.ylabel(feature2, size=15)\n",
    "    # add legend to the plot with names\n",
    "    plt.legend(handles=scatter.legend_elements()[0], \n",
    "           labels=list_feature_as_color,\n",
    "           title=feature_as_color)\n",
    "    plt.savefig('images/scatter_plot_{}_via_{}_{}.png'.format(feature1, feature2,feature_as_color))\n",
    "    plt.show()\n",
    "#-------------------------------------------------------------------------------------\n",
    "def scatter_log_plot(data1, featur1, featur2, featur3, names,plt):\n",
    "    dt = data1\n",
    "    dt['log_{}'.format(featur1)] = np.log(data.num_orders)\n",
    "    dt['{}_per_{}'.format(featur2, featur1)] = data[featur2]/data[featur1]\n",
    "    scatter_plot(dt, 'log_{}'.format(featur1), '{}_per_{}'.format(featur2, featur1), featur3, names,plt)\n",
    "###################################################################################################\n",
    "def bar_plot(data, feature1, feature2, feature3,plt, space):\n",
    "    plt.figure(figsize=(7,5))\n",
    "    plt.subplots_adjust(bottom=space)\n",
    "    plt.rcParams.update({'font.size': 15})\n",
    "    sns.barplot(x=feature1, y=feature2, data=data, color = 'red', label = feature2, alpha = 0.4)\n",
    "    sns.barplot(x=feature1, y=feature3, data=data, color = 'blue', label = feature3, alpha = 0.4)\n",
    "    plt.xticks(rotation=90)\n",
    "    plt.xlabel(feature1, size=15)\n",
    "    plt.ylabel(\"\")\n",
    "    plt.legend()\n",
    "    plt.savefig('images/bar_plot_{}_via_{}_and_{}.png'.format(feature1, feature2, feature3))\n",
    "    plt.show()\n",
    "#####################################################################################################\n",
    "def plot_mean_std(data,feature1, feature2):\n",
    "    #var = sqrt(sum(i-mean)**2/N)\n",
    "    dt = data[[feature1, feature2]].groupby([feature1])\n",
    "    plt.figure(figsize=(10,5))\n",
    "    plt.rcParams.update({'font.size': 15})\n",
    "    plt.scatter(data[feature1].unique(),dt.mean(), marker=\"o\", label= 'mean')\n",
    "    plt.scatter(data[feature1].unique(),dt.std(), marker=\"*\", label = 'std')\n",
    "    plt.xlabel(feature1)\n",
    "    plt.ylabel(feature2)\n",
    "    plt.legend()\n",
    "    plt.savefig('images/mean_std_plot_{}_via_{}.png'.format(feature1, feature2))\n",
    "    plt.show()\n",
    "######################################################################################################\n",
    "def plot_total_value_features(data,feature1, feature2):\n",
    "    dt = data[[feature1, feature2]].groupby([feature1])\n",
    "    plt.figure(figsize=(10,5))\n",
    "    plt.rcParams.update({'font.size': 15})\n",
    "    plt.scatter(data[feature1].unique(),dt.sum(), marker=\"o\")\n",
    "    plt.xlabel(feature1)\n",
    "    plt.ylabel('sum_over_{}'.format(feature2))\n",
    "    plt.legend()\n",
    "    plt.savefig('images/sum_over_features_plot_{}_via_{}.png'.format(feature1, feature2))\n",
    "    plt.show()"
   ]
  },
  {
   "cell_type": "markdown",
   "metadata": {},
   "source": [
    "# ________pie_plot______"
   ]
  },
  {
   "cell_type": "code",
   "execution_count": null,
   "metadata": {},
   "outputs": [],
   "source": [
    "plt.rcParams.update({'font.size': 15})\n",
    "fig, axs = plt.subplots(1,2, figsize = (14,5))\n",
    "pie_plot(data, 'emailer_for_promotion', 'num_orders', axs[0], [0,0])\n",
    "pie_plot(data, 'emailer_for_promotion', 'checkout_price', axs[1], [0,0])\n",
    "plt.savefig('images/pie_plot_{}_via_{}_and_{}.png'.format('emailer_for_promotion', 'num_orders','checkout_price'))\n",
    "plt.show()\n",
    "#----------------------------------------------------------------\n",
    "plt.rcParams.update({'font.size': 15})\n",
    "fig, axs = plt.subplots(1,2, figsize = (14,5))\n",
    "pie_plot(data, 'homepage_featured', 'num_orders', axs[0], [0,0])\n",
    "pie_plot(data, 'homepage_featured', 'checkout_price', axs[1], [0,0])\n",
    "plt.savefig('images/pie_plot_{}_via_{}_and_{}.png'.format('homepage_featured', 'num_orders','checkout_price'))\n",
    "plt.show()\n",
    "#----------------------------------------------------------------\n",
    "plt.rcParams.update({'font.size': 15})\n",
    "fig, axs = plt.subplots(1,2, figsize = (14,5))\n",
    "pie_plot(data, 'category', 'num_orders', axs[0], [0,0.2,0.0,0.2,0.,0.2,0.0,0.2,0.0,0.4,0.0,.2,0.0,.2])\n",
    "pie_plot(data, 'category', 'checkout_price', axs[1], [0,0.1,0.0,0.1,0.,0.2,0.0,0.2,0.0,0.2,0.0,.2,0.0,.2])\n",
    "plt.savefig('images/pie_plot_{}_via_{}_and_{}.png'.format('category', 'num_orders','checkout_price'))\n",
    "plt.show()\n",
    "#----------------------------------------------------------------\n",
    "plt.rcParams.update({'font.size': 15})\n",
    "fig, axs = plt.subplots(1,2, figsize = (14,5))\n",
    "pie_plot(data, 'cuisine', 'num_orders', axs[0], [0,0,0,0])\n",
    "pie_plot(data, 'cuisine', 'checkout_price', axs[1], [0,0,0,0])\n",
    "plt.savefig('images/pie_plot_{}_via_{}_and_{}.png'.format('cuisine', 'num_orders','checkout_price'))\n",
    "#----------------------------------------------------------------\n",
    "plt.rcParams.update({'font.size': 15})\n",
    "fig, axs = plt.subplots(1,2, figsize = (14,5))\n",
    "pie_plot(data, 'region_code', 'num_orders', axs[0], [0,0.0,0,0,0.4,0.8,1.2,1.5])\n",
    "pie_plot(data, 'region_code', 'checkout_price', axs[1], [0,0.0,0,0,0.4,0.8,1.2,1.5])\n",
    "plt.savefig('images/pie_plot_{}_via_{}_and_{}.png'.format('region_code', 'num_orders','checkout_price'))\n",
    "plt.show()\n",
    "#----------------------------------------------------------------\n",
    "plt.rcParams.update({'font.size': 15})\n",
    "fig, axs = plt.subplots(1,2, figsize = (14,5))\n",
    "pie_plot(data, 'center_type', 'num_orders', axs[0], [0,0.0,0])\n",
    "pie_plot(data, 'center_type', 'checkout_price', axs[1], [0,0.0,0])\n",
    "plt.savefig('images/pie_plot_{}_via_{}_and_{}.png'.format('center_type', 'num_orders','checkout_price'))\n",
    "plt.show()\n",
    "#----------------------------------------------------------------"
   ]
  },
  {
   "cell_type": "markdown",
   "metadata": {},
   "source": [
    "# ______hist_plot______"
   ]
  },
  {
   "cell_type": "code",
   "execution_count": null,
   "metadata": {},
   "outputs": [],
   "source": [
    "hist_plot(data, 'checkout_price', 'num_orders',0, .2)\n",
    "hist_plot(data, 'week', 'center_id', 0, .2)\n",
    "hist_plot(data, 'meal_id', 'base_price', 0, .2)\n",
    "hist_plot(data, 'emailer_for_promotion', 'homepage_featured', 0, 0.2)\n",
    "hist_plot(data,  'cuisine', 'category', 60, 0.36)\n",
    "hist_plot(data, 'city_code', 'region_code', 0, .2)\n",
    "hist_plot(data, 'center_type', 'op_area', 0, .2)"
   ]
  },
  {
   "cell_type": "markdown",
   "metadata": {},
   "source": [
    "# ______scatter_plot_____"
   ]
  },
  {
   "cell_type": "code",
   "execution_count": null,
   "metadata": {},
   "outputs": [],
   "source": [
    "cuisine_names = ['Thai', 'Indian', 'Italian', 'Continental']\n",
    "category_names = ['Beverages', 'Rice Bowl', 'Starters', 'Pasta', 'Sandwich',\n",
    "                  'Biryani', 'Extras', 'Pizza', 'Seafood', 'Other Snacks', \n",
    "                  'Desert', 'Salad', 'Fish', 'Soup']\n",
    "homepage_featured_names = [1,0]\n",
    "emailer_for_promotion_names = [1,0]\n",
    "region_code_names = [56,85,77,34,35,71,93,23]\n",
    "center_type_names = ['TYPE_A', 'TYPE_B', 'TYPE_C']\n",
    "op_area_names = [4.0,3.9,3.8,4.4,4.5,2.8,4.1,7.0,4.8,3.4,3.6,5.1,4.2,2.7,3.0,2.0,6.7,6.3,5.6,3.7,3.5,3.2,5.0,5.3,4.6, 4.7,2.4,2.9,1.9,0.9]"
   ]
  },
  {
   "cell_type": "code",
   "execution_count": null,
   "metadata": {},
   "outputs": [],
   "source": [
    "scatter_plot(data, 'checkout_price', 'num_orders', 'cuisine', cuisine_names,plt)\n",
    "scatter_log_plot(data, 'num_orders', 'checkout_price', 'cuisine', cuisine_names,plt)\n",
    "#---------------------------------------------------------------------\n",
    "scatter_plot(data, 'checkout_price', 'num_orders', 'homepage_featured', homepage_featured_names,plt)\n",
    "scatter_log_plot(data, 'num_orders', 'checkout_price', 'homepage_featured', homepage_featured_names,plt)\n",
    "#----------------------------------------------------------------------------------\n",
    "scatter_plot(data, 'checkout_price', 'num_orders', 'emailer_for_promotion', emailer_for_promotion_names,plt)\n",
    "scatter_log_plot(data, 'num_orders', 'checkout_price', 'emailer_for_promotion', emailer_for_promotion_names,plt)\n",
    "#----------------------------------------------------------------------------------\n",
    "scatter_plot(data, 'checkout_price', 'num_orders', 'region_code', region_code_names,plt)\n",
    "scatter_log_plot(data, 'num_orders', 'checkout_price', 'region_code', region_code_names, plt)\n",
    "#----------------------------------------------------------------------------------\n",
    "scatter_plot(data, 'checkout_price', 'num_orders', 'center_type', center_type_names,plt)\n",
    "scatter_log_plot(data, 'num_orders', 'checkout_price', 'center_type', center_type_names, plt)\n",
    "#----------------------------------------------------------------------------------\n",
    "scatter_plot(data, 'checkout_price', 'num_orders', 'op_area',op_area_names,plt)\n",
    "scatter_log_plot(data, 'num_orders', 'checkout_price', 'op_area', op_area_names,plt)"
   ]
  },
  {
   "cell_type": "markdown",
   "metadata": {},
   "source": [
    "#  ______bar_plot_____"
   ]
  },
  {
   "cell_type": "code",
   "execution_count": null,
   "metadata": {
    "scrolled": false
   },
   "outputs": [],
   "source": [
    "bar_plot(data, 'emailer_for_promotion', 'checkout_price', 'num_orders',plt,.1)\n",
    "bar_plot(data, 'homepage_featured', 'checkout_price', 'num_orders',plt,.1)\n",
    "bar_plot(data, 'category', 'checkout_price', 'num_orders',plt,0.36)\n",
    "bar_plot(data, 'cuisine', 'checkout_price', 'num_orders',plt,0.31)\n",
    "bar_plot(data, 'region_code', 'checkout_price', 'num_orders',plt,.12)\n",
    "bar_plot(data, 'center_type', 'checkout_price', 'num_orders',plt,.22)\n",
    "bar_plot(data, 'op_area', 'checkout_price', 'num_orders',plt,.15)"
   ]
  },
  {
   "cell_type": "markdown",
   "metadata": {},
   "source": [
    "#  _______ mean_std_plot______"
   ]
  },
  {
   "cell_type": "code",
   "execution_count": null,
   "metadata": {},
   "outputs": [],
   "source": [
    "plot_mean_std(data, 'week', 'checkout_price')\n",
    "plot_mean_std(data, 'week', 'emailer_for_promotion')\n",
    "plot_mean_std(data, 'week', 'homepage_featured')\n",
    "plot_mean_std(data, 'week', 'num_orders')"
   ]
  },
  {
   "cell_type": "markdown",
   "metadata": {},
   "source": [
    "# __________ sum_over_features_________"
   ]
  },
  {
   "cell_type": "code",
   "execution_count": null,
   "metadata": {},
   "outputs": [],
   "source": [
    "plot_total_value_features(data, 'week', 'checkout_price')\n",
    "plot_total_value_features(data, 'week', 'emailer_for_promotion')\n",
    "plot_total_value_features(data, 'week', 'homepage_featured')\n",
    "plot_total_value_features(data, 'week', 'num_orders')\n",
    "#---------------------------------------------------------------\n",
    "data['price_per_order'] = data['checkout_price']/data['num_orders']\n",
    "plot_total_value_features(data, 'week', 'price_per_order')"
   ]
  },
  {
   "cell_type": "markdown",
   "metadata": {},
   "source": [
    "# ----- A/B Testing-----"
   ]
  },
  {
   "cell_type": "code",
   "execution_count": null,
   "metadata": {},
   "outputs": [],
   "source": [
    "#function to calculte P_value\n",
    "from scipy.stats import ttest_ind\n",
    "from scipy import stats\n",
    "from statsmodels.stats import weightstats as stests\n",
    "from scipy.stats import mannwhitneyu\n",
    "import numpy as np\n",
    "def cal_p_val(dt, feature_1, feature_2, cuisine1, cuisine2):\n",
    "    result_ttest,result_utest = 'reject Null', 'reject Null'\n",
    "    data_A = dt[dt[feature_1] == cuisine1]\n",
    "    data_B = dt[dt[feature_1] == cuisine2]\n",
    "    if len(data_A) !=0 and len(data_B) != 0:\n",
    "                ttest,pval_t_0 = ttest_ind(data_A[feature_2],data_B[feature_2])\n",
    "                stat, pval_mann_0 = mannwhitneyu(data_A[feature_2],data_B[feature_2])\n",
    "                if pval_t_0 > alpha: result_ttest = 'not reject Null'\n",
    "                if pval_mann_0 > alpha: result_utest = 'not reject Null'\n",
    "    return pval_t_0, pval_mann_0, round(data_A[feature_2].mean(),2), round(data_B[feature_2].mean(),2), len(data_A), len(data_B),result_ttest, result_utest\n",
    "#-------------------------------------------------------------------------------\n",
    "def table_info(dt,feature_1, feature_2, list_feature):\n",
    "    table_info = pd.DataFrame(columns= ['Sample A', 'Sample B', 'pval_ttest', 'pval_utest', 'mean_{}_A'.format(feature_2), 'mean_{}_B'.format(feature_2), 'n_A', 'n_B', 't-test', 'u-test'])\n",
    "    k = 0\n",
    "    alpha = 0.05\n",
    "    for i in range(len(list_feature)):\n",
    "        for j in range(i+1, len(list_feature)):\n",
    "            a, b, c, d, e, f, g, h = cal_p_val(dt, feature_1, feature_2, list_feature[i], list_feature[j])\n",
    "            table_info.loc[k] = list_feature[i], list_feature[j], a, b, c, d, e, f, g ,h\n",
    "            k += 1\n",
    "    import subprocess\n",
    "    table_info.to_html('table2.html')\n",
    "    subprocess.call('wkhtmltoimage -f png --width 0 table2.html images/table_{}_{}.png'.format(feature_1, feature_2), shell=True)\n",
    "    return table_info\n",
    "#--------------------------------------------------------------------------------\n",
    "def table_info_via_threshold(dt,feature_1, feature_2,a,b,c):\n",
    "    table_info = pd.DataFrame(columns= ['Threshold','Sample A', 'Sample B', 'pval_ttest', 'pval_utest', 'mean_{}_A'.format(feature_2), 'mean_{}_B'.format(feature_2), 'n_A', 'n_B', 't-test', 'u-test'])\n",
    "    k = 0\n",
    "    alpha = 0.05\n",
    "    for p in range(a,b,c):\n",
    "        def f(x):\n",
    "            if x <= p:\n",
    "                return 'before'\n",
    "            else:\n",
    "                return 'after'\n",
    "        dt['week_label'] = dt[feature_1].apply(f)\n",
    "        list_feature = ['before', 'after']\n",
    "        for i in range(len(list_feature)):\n",
    "            for j in range(i+1, len(list_feature)):\n",
    "                a, b, c, d, e, f, g, h = cal_p_val(dt, 'week_label', feature_2, list_feature[i], list_feature[j])\n",
    "                table_info.loc[k] = p,list_feature[i], list_feature[j], a, b, c, d, e, f, g ,h\n",
    "                k += 1\n",
    "        dt.drop(['week_label'], axis=1, inplace= True)        \n",
    "    import subprocess\n",
    "    table_info.to_html('table2.html')\n",
    "    subprocess.call('wkhtmltoimage -f png --width 0 table2.html images/table_{}_{}_via_treshold.png'.format(feature_1, feature_2), shell=True)\n",
    "    return table_info\n",
    "#------------------------------------------------------------------------------------\n",
    "def table_info_via_three_parts(dt,feature_1, feature_2, list_feature):\n",
    "    table_info = pd.DataFrame(columns= ['Sample A', 'Sample B', 'pval_ttest', 'pval_utest', 'mean_{}_A'.format(feature_2), 'mean_{}_B'.format(feature_2), 'n_A', 'n_B', 't-test', 'u-test'])\n",
    "    k = 0\n",
    "    alpha = 0.05\n",
    "    for i in range(len(list_feature)-1):\n",
    "            j =i+1\n",
    "            a, b, c, d, e, f, g, h = cal_p_val(dt, feature_1, feature_2, list_feature[i], list_feature[j])\n",
    "            table_info.loc[k] = list_feature[i], list_feature[j], a, b, c, d, e, f, g ,h\n",
    "            k += 1\n",
    "    import subprocess\n",
    "    table_info.to_html('table2.html')\n",
    "    subprocess.call('wkhtmltoimage -f png --width 0 table2.html images/table_{}_{}_three_parts_week.png'.format(feature_1, feature_2), shell=True)\n",
    "    return table_info"
   ]
  },
  {
   "cell_type": "markdown",
   "metadata": {},
   "source": [
    "# ----- A/B Testing based on cuisions-----"
   ]
  },
  {
   "cell_type": "code",
   "execution_count": null,
   "metadata": {},
   "outputs": [],
   "source": [
    "# significance level\n",
    "alpha = 0.05\n",
    "# Null hypothesis \n",
    "### checkout price of Italian cuisine is the same as the chekckout price Thai cuisine!\n",
    "# alternative \n",
    "### checkout price of Italian and Thia cuisines is not the same!\n",
    "#if pval <0.05:\n",
    "#  print(\"we reject null hypothesis\")\n",
    "#else:\n",
    "#  print(\"we can not reject null hypothesis\")"
   ]
  },
  {
   "cell_type": "code",
   "execution_count": null,
   "metadata": {},
   "outputs": [],
   "source": [
    "table_info(data, 'cuisine', 'checkout_price', cuisine_names)"
   ]
  },
  {
   "cell_type": "code",
   "execution_count": null,
   "metadata": {},
   "outputs": [],
   "source": [
    "table_info(data, 'cuisine', 'num_orders', cuisine_names)"
   ]
  },
  {
   "cell_type": "markdown",
   "metadata": {},
   "source": [
    "# ----- A/B Testing based on categories-----"
   ]
  },
  {
   "cell_type": "code",
   "execution_count": null,
   "metadata": {},
   "outputs": [],
   "source": [
    "table_info(data, 'category', 'checkout_price', category_names)"
   ]
  },
  {
   "cell_type": "code",
   "execution_count": null,
   "metadata": {},
   "outputs": [],
   "source": [
    "table_info(data, 'category', 'num_orders', category_names)"
   ]
  },
  {
   "cell_type": "markdown",
   "metadata": {},
   "source": [
    "# ----- A/B Testing based on homepage_featured-----"
   ]
  },
  {
   "cell_type": "code",
   "execution_count": null,
   "metadata": {},
   "outputs": [],
   "source": [
    "# significance level\n",
    "alpha = 0.05\n",
    "# Null hypothesis \n",
    "### checkout price with homepage_featured=0 is the same as the chekckout price with homepage_featured=1!\n",
    "# alternative \n",
    "### checkout price is not the same for both!\n",
    "#if pval <0.05:\n",
    "#  print(\"we reject null hypothesis\")\n",
    "#else:\n",
    "#  print(\"we can not reject null hypothesis\")"
   ]
  },
  {
   "cell_type": "code",
   "execution_count": null,
   "metadata": {},
   "outputs": [],
   "source": [
    "table_info(data, 'homepage_featured', 'checkout_price', homepage_featured_names)"
   ]
  },
  {
   "cell_type": "code",
   "execution_count": null,
   "metadata": {},
   "outputs": [],
   "source": [
    "table_info(data, 'homepage_featured', 'num_orders', homepage_featured_names)"
   ]
  },
  {
   "cell_type": "markdown",
   "metadata": {},
   "source": [
    "# ----- A/B Testing based on emailer_for_promotion-----"
   ]
  },
  {
   "cell_type": "code",
   "execution_count": null,
   "metadata": {},
   "outputs": [],
   "source": [
    "table_info(data, 'emailer_for_promotion', 'checkout_price', emailer_for_promotion_names)"
   ]
  },
  {
   "cell_type": "code",
   "execution_count": null,
   "metadata": {},
   "outputs": [],
   "source": [
    "table_info(data, 'emailer_for_promotion', 'num_orders', emailer_for_promotion_names)"
   ]
  },
  {
   "cell_type": "markdown",
   "metadata": {},
   "source": [
    "# ----- A/B Testing based on center_type-----"
   ]
  },
  {
   "cell_type": "code",
   "execution_count": null,
   "metadata": {
    "scrolled": true
   },
   "outputs": [],
   "source": [
    "table_info(data, 'center_type', 'checkout_price', center_type_names)"
   ]
  },
  {
   "cell_type": "code",
   "execution_count": null,
   "metadata": {},
   "outputs": [],
   "source": [
    "table_info(data, 'center_type', 'num_orders', center_type_names)"
   ]
  },
  {
   "cell_type": "markdown",
   "metadata": {},
   "source": [
    "# ----- A/B Testing based on week-----"
   ]
  },
  {
   "cell_type": "code",
   "execution_count": null,
   "metadata": {},
   "outputs": [],
   "source": [
    "table_info_via_threshold(data, 'week', 'checkout_price', 10, 145,30)"
   ]
  },
  {
   "cell_type": "code",
   "execution_count": null,
   "metadata": {},
   "outputs": [],
   "source": [
    "table_info_via_threshold(data, 'week', 'num_orders', 10, 145,30)"
   ]
  },
  {
   "cell_type": "code",
   "execution_count": null,
   "metadata": {},
   "outputs": [],
   "source": [
    "def f(x):\n",
    "    if x<50:\n",
    "        return '0-49'\n",
    "    if 50 <= x <100:\n",
    "        return '50-99'\n",
    "    if x>=100:\n",
    "        return '100-145'\n",
    "data['week_label'] = data['week'].apply(f)\n",
    "week_label_names = ['0-49','50-99','100-145']\n",
    "table_info_via_three_parts(data, 'week_label', 'num_orders', week_label_names)"
   ]
  },
  {
   "cell_type": "code",
   "execution_count": null,
   "metadata": {},
   "outputs": [],
   "source": [
    "def f(x):\n",
    "    if x<50:\n",
    "        return '0-49'\n",
    "    if 50 <= x <100:\n",
    "        return '50-99'\n",
    "    if x>=100:\n",
    "        return '100-145'\n",
    "data['week_label'] = data['week'].apply(f)\n",
    "week_label_names = ['0-49','50-99','100-145']\n",
    "table_info_via_three_parts(data, 'week_label', 'checkout_price', week_label_names)"
   ]
  },
  {
   "cell_type": "code",
   "execution_count": null,
   "metadata": {},
   "outputs": [],
   "source": []
  }
 ],
 "metadata": {
  "kernelspec": {
   "display_name": "Python 3",
   "language": "python",
   "name": "python3"
  },
  "language_info": {
   "codemirror_mode": {
    "name": "ipython",
    "version": 3
   },
   "file_extension": ".py",
   "mimetype": "text/x-python",
   "name": "python",
   "nbconvert_exporter": "python",
   "pygments_lexer": "ipython3",
   "version": "3.6.9"
  }
 },
 "nbformat": 4,
 "nbformat_minor": 2
}
